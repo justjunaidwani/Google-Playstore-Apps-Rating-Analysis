{
 "cells": [
  {
   "cell_type": "markdown",
   "id": "70b44be6",
   "metadata": {},
   "source": [
    " "
   ]
  },
  {
   "cell_type": "markdown",
   "id": "ff3340f3",
   "metadata": {},
   "source": [
    "# Google Playstore Apps Rating Prediction"
   ]
  },
  {
   "cell_type": "code",
   "execution_count": null,
   "id": "83c7ff4c",
   "metadata": {},
   "outputs": [],
   "source": []
  },
  {
   "cell_type": "code",
   "execution_count": 43,
   "id": "ba0ef22d",
   "metadata": {},
   "outputs": [],
   "source": [
    "import numpy as np\n",
    "import pandas as pd\n",
    "import seaborn as sns\n",
    "import matplotlib.pyplot as plt\n",
    "\n",
    "import warnings\n",
    "warnings.filterwarnings('ignore')\n"
   ]
  },
  {
   "cell_type": "code",
   "execution_count": 44,
   "id": "a4b5d820",
   "metadata": {},
   "outputs": [],
   "source": [
    "\n",
    "data = pd.read_csv('googleplaystore.csv')\n",
    "\n"
   ]
  },
  {
   "cell_type": "code",
   "execution_count": 45,
   "id": "4a41080d",
   "metadata": {},
   "outputs": [
    {
     "data": {
      "text/html": [
       "<div>\n",
       "<style scoped>\n",
       "    .dataframe tbody tr th:only-of-type {\n",
       "        vertical-align: middle;\n",
       "    }\n",
       "\n",
       "    .dataframe tbody tr th {\n",
       "        vertical-align: top;\n",
       "    }\n",
       "\n",
       "    .dataframe thead th {\n",
       "        text-align: right;\n",
       "    }\n",
       "</style>\n",
       "<table border=\"1\" class=\"dataframe\">\n",
       "  <thead>\n",
       "    <tr style=\"text-align: right;\">\n",
       "      <th></th>\n",
       "      <th>App</th>\n",
       "      <th>Category</th>\n",
       "      <th>Rating</th>\n",
       "      <th>Reviews</th>\n",
       "      <th>Size</th>\n",
       "      <th>Installs</th>\n",
       "      <th>Type</th>\n",
       "      <th>Price</th>\n",
       "      <th>Content Rating</th>\n",
       "      <th>Genres</th>\n",
       "      <th>Last Updated</th>\n",
       "      <th>Current Ver</th>\n",
       "      <th>Android Ver</th>\n",
       "    </tr>\n",
       "  </thead>\n",
       "  <tbody>\n",
       "    <tr>\n",
       "      <th>0</th>\n",
       "      <td>Photo Editor &amp; Candy Camera &amp; Grid &amp; ScrapBook</td>\n",
       "      <td>ART_AND_DESIGN</td>\n",
       "      <td>4.1</td>\n",
       "      <td>159</td>\n",
       "      <td>19M</td>\n",
       "      <td>10,000+</td>\n",
       "      <td>Free</td>\n",
       "      <td>0</td>\n",
       "      <td>Everyone</td>\n",
       "      <td>Art &amp; Design</td>\n",
       "      <td>January 7, 2018</td>\n",
       "      <td>1.0.0</td>\n",
       "      <td>4.0.3 and up</td>\n",
       "    </tr>\n",
       "    <tr>\n",
       "      <th>1</th>\n",
       "      <td>Coloring book moana</td>\n",
       "      <td>ART_AND_DESIGN</td>\n",
       "      <td>3.9</td>\n",
       "      <td>967</td>\n",
       "      <td>14M</td>\n",
       "      <td>500,000+</td>\n",
       "      <td>Free</td>\n",
       "      <td>0</td>\n",
       "      <td>Everyone</td>\n",
       "      <td>Art &amp; Design;Pretend Play</td>\n",
       "      <td>January 15, 2018</td>\n",
       "      <td>2.0.0</td>\n",
       "      <td>4.0.3 and up</td>\n",
       "    </tr>\n",
       "    <tr>\n",
       "      <th>2</th>\n",
       "      <td>U Launcher Lite – FREE Live Cool Themes, Hide ...</td>\n",
       "      <td>ART_AND_DESIGN</td>\n",
       "      <td>4.7</td>\n",
       "      <td>87510</td>\n",
       "      <td>8.7M</td>\n",
       "      <td>5,000,000+</td>\n",
       "      <td>Free</td>\n",
       "      <td>0</td>\n",
       "      <td>Everyone</td>\n",
       "      <td>Art &amp; Design</td>\n",
       "      <td>August 1, 2018</td>\n",
       "      <td>1.2.4</td>\n",
       "      <td>4.0.3 and up</td>\n",
       "    </tr>\n",
       "  </tbody>\n",
       "</table>\n",
       "</div>"
      ],
      "text/plain": [
       "                                                 App        Category  Rating  \\\n",
       "0     Photo Editor & Candy Camera & Grid & ScrapBook  ART_AND_DESIGN     4.1   \n",
       "1                                Coloring book moana  ART_AND_DESIGN     3.9   \n",
       "2  U Launcher Lite – FREE Live Cool Themes, Hide ...  ART_AND_DESIGN     4.7   \n",
       "\n",
       "  Reviews  Size    Installs  Type Price Content Rating  \\\n",
       "0     159   19M     10,000+  Free     0       Everyone   \n",
       "1     967   14M    500,000+  Free     0       Everyone   \n",
       "2   87510  8.7M  5,000,000+  Free     0       Everyone   \n",
       "\n",
       "                      Genres      Last Updated Current Ver   Android Ver  \n",
       "0               Art & Design   January 7, 2018       1.0.0  4.0.3 and up  \n",
       "1  Art & Design;Pretend Play  January 15, 2018       2.0.0  4.0.3 and up  \n",
       "2               Art & Design    August 1, 2018       1.2.4  4.0.3 and up  "
      ]
     },
     "execution_count": 45,
     "metadata": {},
     "output_type": "execute_result"
    }
   ],
   "source": [
    "data.head(3)"
   ]
  },
  {
   "cell_type": "markdown",
   "id": "c942d2e8",
   "metadata": {},
   "source": [
    "## Data Overview..."
   ]
  },
  {
   "cell_type": "code",
   "execution_count": 46,
   "id": "54e5acbe",
   "metadata": {},
   "outputs": [],
   "source": [
    "\n",
    "data.columns = data.columns.str.strip()\n",
    "\n",
    "pd.set_option('display.max_columns', None)\n"
   ]
  },
  {
   "cell_type": "code",
   "execution_count": 47,
   "id": "5c1ac522",
   "metadata": {},
   "outputs": [
    {
     "data": {
      "text/html": [
       "<div>\n",
       "<style scoped>\n",
       "    .dataframe tbody tr th:only-of-type {\n",
       "        vertical-align: middle;\n",
       "    }\n",
       "\n",
       "    .dataframe tbody tr th {\n",
       "        vertical-align: top;\n",
       "    }\n",
       "\n",
       "    .dataframe thead th {\n",
       "        text-align: right;\n",
       "    }\n",
       "</style>\n",
       "<table border=\"1\" class=\"dataframe\">\n",
       "  <thead>\n",
       "    <tr style=\"text-align: right;\">\n",
       "      <th></th>\n",
       "      <th>App</th>\n",
       "      <th>Category</th>\n",
       "      <th>Rating</th>\n",
       "      <th>Reviews</th>\n",
       "      <th>Size</th>\n",
       "      <th>Installs</th>\n",
       "      <th>Type</th>\n",
       "      <th>Price</th>\n",
       "      <th>Content Rating</th>\n",
       "      <th>Genres</th>\n",
       "      <th>Last Updated</th>\n",
       "      <th>Current Ver</th>\n",
       "      <th>Android Ver</th>\n",
       "    </tr>\n",
       "  </thead>\n",
       "  <tbody>\n",
       "    <tr>\n",
       "      <th>2395</th>\n",
       "      <td>EMT Review Plus</td>\n",
       "      <td>MEDICAL</td>\n",
       "      <td>4.5</td>\n",
       "      <td>199</td>\n",
       "      <td>1.8M</td>\n",
       "      <td>10,000+</td>\n",
       "      <td>Paid</td>\n",
       "      <td>$11.99</td>\n",
       "      <td>Everyone</td>\n",
       "      <td>Medical</td>\n",
       "      <td>June 27, 2018</td>\n",
       "      <td>3.0.5</td>\n",
       "      <td>4.4W and up</td>\n",
       "    </tr>\n",
       "    <tr>\n",
       "      <th>2449</th>\n",
       "      <td>Jaylex</td>\n",
       "      <td>MEDICAL</td>\n",
       "      <td>NaN</td>\n",
       "      <td>0</td>\n",
       "      <td>13M</td>\n",
       "      <td>10+</td>\n",
       "      <td>Free</td>\n",
       "      <td>0</td>\n",
       "      <td>Everyone</td>\n",
       "      <td>Medical</td>\n",
       "      <td>July 30, 2018</td>\n",
       "      <td>1.2.3-DEBUG</td>\n",
       "      <td>4.2 and up</td>\n",
       "    </tr>\n",
       "    <tr>\n",
       "      <th>2781</th>\n",
       "      <td>Wanelo Shopping</td>\n",
       "      <td>SHOPPING</td>\n",
       "      <td>4.6</td>\n",
       "      <td>94205</td>\n",
       "      <td>6.5M</td>\n",
       "      <td>1,000,000+</td>\n",
       "      <td>Free</td>\n",
       "      <td>0</td>\n",
       "      <td>Everyone</td>\n",
       "      <td>Shopping</td>\n",
       "      <td>June 13, 2018</td>\n",
       "      <td>5.6.8</td>\n",
       "      <td>4.4 and up</td>\n",
       "    </tr>\n",
       "  </tbody>\n",
       "</table>\n",
       "</div>"
      ],
      "text/plain": [
       "                  App  Category  Rating Reviews  Size    Installs  Type  \\\n",
       "2395  EMT Review Plus   MEDICAL     4.5     199  1.8M     10,000+  Paid   \n",
       "2449           Jaylex   MEDICAL     NaN       0   13M         10+  Free   \n",
       "2781  Wanelo Shopping  SHOPPING     4.6   94205  6.5M  1,000,000+  Free   \n",
       "\n",
       "       Price Content Rating    Genres   Last Updated  Current Ver  Android Ver  \n",
       "2395  $11.99       Everyone   Medical  June 27, 2018        3.0.5  4.4W and up  \n",
       "2449       0       Everyone   Medical  July 30, 2018  1.2.3-DEBUG   4.2 and up  \n",
       "2781       0       Everyone  Shopping  June 13, 2018        5.6.8   4.4 and up  "
      ]
     },
     "execution_count": 47,
     "metadata": {},
     "output_type": "execute_result"
    }
   ],
   "source": [
    "data.sample(3)"
   ]
  },
  {
   "cell_type": "code",
   "execution_count": 48,
   "id": "24dd2c7d",
   "metadata": {
    "scrolled": false
   },
   "outputs": [
    {
     "name": "stdout",
     "output_type": "stream",
     "text": [
      "<class 'pandas.core.frame.DataFrame'>\n",
      "RangeIndex: 10841 entries, 0 to 10840\n",
      "Data columns (total 13 columns):\n",
      " #   Column          Non-Null Count  Dtype  \n",
      "---  ------          --------------  -----  \n",
      " 0   App             10841 non-null  object \n",
      " 1   Category        10841 non-null  object \n",
      " 2   Rating          9367 non-null   float64\n",
      " 3   Reviews         10841 non-null  object \n",
      " 4   Size            10841 non-null  object \n",
      " 5   Installs        10841 non-null  object \n",
      " 6   Type            10840 non-null  object \n",
      " 7   Price           10841 non-null  object \n",
      " 8   Content Rating  10840 non-null  object \n",
      " 9   Genres          10841 non-null  object \n",
      " 10  Last Updated    10841 non-null  object \n",
      " 11  Current Ver     10833 non-null  object \n",
      " 12  Android Ver     10838 non-null  object \n",
      "dtypes: float64(1), object(12)\n",
      "memory usage: 1.1+ MB\n"
     ]
    }
   ],
   "source": [
    "data.info()"
   ]
  },
  {
   "cell_type": "markdown",
   "id": "86fa2cd7",
   "metadata": {},
   "source": [
    "**Initital Insights**\n",
    "\n",
    "- ***App*** and ***Current Ver*** needs to be dropped as they contained a lot of unique values. Almost like the _Name_ and _ID_ column in different datasets.\n",
    "\n",
    "- ***Reviews*** Column's data needs to be changed from Object type to int.\n",
    "\n",
    "- ***Size*** column contains object values. It can be converted to Numerical, we just have to remove the alphabets from the columns\n",
    "\n",
    "- ***Installs*** column as well. Datatype change to Numerical by removing the alphabet characters from the entries.\n",
    "\n",
    "- ***Ratings*** is our Output column and contains Null Values... ->  ( Drop Missing Values )\n",
    "\n",
    "- ***Price*** datatype needs to be changed from object to int.\n",
    "\n",
    "- ***Last Updated**** column's datatype needs to be changed from _object_ to _date time_.\n",
    "\n",
    "- ***Android Ver*** column may have a lot of categories and can be reduced."
   ]
  },
  {
   "cell_type": "code",
   "execution_count": 49,
   "id": "3e16f4e8",
   "metadata": {},
   "outputs": [
    {
     "name": "stdout",
     "output_type": "stream",
     "text": [
      "\n",
      "The Dataset Contains 10841 rows and 13 columns\n",
      "\n"
     ]
    }
   ],
   "source": [
    "print(f\"\\nThe Dataset Contains {data.shape[0]} rows and {data.shape[1]} columns\\n\")"
   ]
  },
  {
   "cell_type": "code",
   "execution_count": 50,
   "id": "431e2a63",
   "metadata": {},
   "outputs": [
    {
     "name": "stdout",
     "output_type": "stream",
     "text": [
      "\n",
      "Dataset has Null Values:  True \n",
      "\n"
     ]
    }
   ],
   "source": [
    "print(\"\\nDataset has Null Values: \",data.isnull().sum().any(),\"\\n\")"
   ]
  },
  {
   "cell_type": "code",
   "execution_count": 51,
   "id": "d62f7d4e",
   "metadata": {},
   "outputs": [
    {
     "name": "stdout",
     "output_type": "stream",
     "text": [
      "\n",
      "Dataset has Duplicated Values:  True \n",
      "\n"
     ]
    }
   ],
   "source": [
    "print(\"\\nDataset has Duplicated Values: \",data.duplicated().sum().any(),\"\\n\")"
   ]
  },
  {
   "cell_type": "code",
   "execution_count": 52,
   "id": "20b7c6f3",
   "metadata": {},
   "outputs": [
    {
     "data": {
      "text/html": [
       "<div>\n",
       "<style scoped>\n",
       "    .dataframe tbody tr th:only-of-type {\n",
       "        vertical-align: middle;\n",
       "    }\n",
       "\n",
       "    .dataframe tbody tr th {\n",
       "        vertical-align: top;\n",
       "    }\n",
       "\n",
       "    .dataframe thead th {\n",
       "        text-align: right;\n",
       "    }\n",
       "</style>\n",
       "<table border=\"1\" class=\"dataframe\">\n",
       "  <thead>\n",
       "    <tr style=\"text-align: right;\">\n",
       "      <th></th>\n",
       "      <th>Rating</th>\n",
       "    </tr>\n",
       "  </thead>\n",
       "  <tbody>\n",
       "    <tr>\n",
       "      <th>count</th>\n",
       "      <td>9367.000000</td>\n",
       "    </tr>\n",
       "    <tr>\n",
       "      <th>mean</th>\n",
       "      <td>4.193338</td>\n",
       "    </tr>\n",
       "    <tr>\n",
       "      <th>std</th>\n",
       "      <td>0.537431</td>\n",
       "    </tr>\n",
       "    <tr>\n",
       "      <th>min</th>\n",
       "      <td>1.000000</td>\n",
       "    </tr>\n",
       "    <tr>\n",
       "      <th>25%</th>\n",
       "      <td>4.000000</td>\n",
       "    </tr>\n",
       "    <tr>\n",
       "      <th>50%</th>\n",
       "      <td>4.300000</td>\n",
       "    </tr>\n",
       "    <tr>\n",
       "      <th>75%</th>\n",
       "      <td>4.500000</td>\n",
       "    </tr>\n",
       "    <tr>\n",
       "      <th>max</th>\n",
       "      <td>19.000000</td>\n",
       "    </tr>\n",
       "  </tbody>\n",
       "</table>\n",
       "</div>"
      ],
      "text/plain": [
       "            Rating\n",
       "count  9367.000000\n",
       "mean      4.193338\n",
       "std       0.537431\n",
       "min       1.000000\n",
       "25%       4.000000\n",
       "50%       4.300000\n",
       "75%       4.500000\n",
       "max      19.000000"
      ]
     },
     "execution_count": 52,
     "metadata": {},
     "output_type": "execute_result"
    }
   ],
   "source": [
    "data.describe()"
   ]
  },
  {
   "cell_type": "markdown",
   "id": "f25de6b1",
   "metadata": {},
   "source": [
    "The Ratings column has a maximum Rating as 19.0 which is Unusual because the Ratings are always between 0.0 and 5.0."
   ]
  },
  {
   "cell_type": "code",
   "execution_count": 53,
   "id": "2106fe05",
   "metadata": {},
   "outputs": [
    {
     "name": "stdout",
     "output_type": "stream",
     "text": [
      "\n",
      "Null Value Percentage: \n"
     ]
    },
    {
     "data": {
      "text/plain": [
       "App                0.000000\n",
       "Category           0.000000\n",
       "Rating            13.596532\n",
       "Reviews            0.000000\n",
       "Size               0.000000\n",
       "Installs           0.000000\n",
       "Type               0.009224\n",
       "Price              0.000000\n",
       "Content Rating     0.009224\n",
       "Genres             0.000000\n",
       "Last Updated       0.000000\n",
       "Current Ver        0.073794\n",
       "Android Ver        0.027673\n",
       "dtype: float64"
      ]
     },
     "execution_count": 53,
     "metadata": {},
     "output_type": "execute_result"
    }
   ],
   "source": [
    "print(\"\\nNull Value Percentage: \")\n",
    "( data.isnull().sum() / data.shape[0] ) * 100\n",
    "\n"
   ]
  },
  {
   "cell_type": "markdown",
   "id": "667e2ba0",
   "metadata": {},
   "source": [
    "**As we can see, Ratings column has 1474 Null Values ( Around 13% of the actual data).**\n",
    "\n",
    "\n",
    "**There are Multiple ways we can handle this:**  \n",
    "\n",
    "- Dropping Entire Column : But this Data is the central Pivot of our Dataset ❌\n",
    "\n",
    "- Dropping the Rows : This is the best option for Model Building as we cannot impute the missing data in case of the output column. We may loss some information but it is the only Valid option for Model building.\n",
    "\n",
    "- For Analysis Part, we will impute this column with a Constant, \"Unrated\". It is valid as these Apps may not have been rated at all... We can also use Mean, Mode or KNN imputation techniques to fill the NaN values... "
   ]
  },
  {
   "cell_type": "markdown",
   "id": "5d519374",
   "metadata": {},
   "source": [
    "## Data Cleaning"
   ]
  },
  {
   "cell_type": "code",
   "execution_count": 54,
   "id": "1ae5dcba",
   "metadata": {},
   "outputs": [
    {
     "data": {
      "text/html": [
       "<div>\n",
       "<style scoped>\n",
       "    .dataframe tbody tr th:only-of-type {\n",
       "        vertical-align: middle;\n",
       "    }\n",
       "\n",
       "    .dataframe tbody tr th {\n",
       "        vertical-align: top;\n",
       "    }\n",
       "\n",
       "    .dataframe thead th {\n",
       "        text-align: right;\n",
       "    }\n",
       "</style>\n",
       "<table border=\"1\" class=\"dataframe\">\n",
       "  <thead>\n",
       "    <tr style=\"text-align: right;\">\n",
       "      <th></th>\n",
       "      <th>App</th>\n",
       "      <th>Category</th>\n",
       "      <th>Rating</th>\n",
       "      <th>Reviews</th>\n",
       "      <th>Size</th>\n",
       "      <th>Installs</th>\n",
       "      <th>Type</th>\n",
       "      <th>Price</th>\n",
       "      <th>Content Rating</th>\n",
       "      <th>Genres</th>\n",
       "      <th>Last Updated</th>\n",
       "      <th>Current Ver</th>\n",
       "      <th>Android Ver</th>\n",
       "    </tr>\n",
       "  </thead>\n",
       "  <tbody>\n",
       "    <tr>\n",
       "      <th>2297</th>\n",
       "      <td>Hospitalist Handbook</td>\n",
       "      <td>MEDICAL</td>\n",
       "      <td>4.8</td>\n",
       "      <td>12</td>\n",
       "      <td>18M</td>\n",
       "      <td>1,000+</td>\n",
       "      <td>Paid</td>\n",
       "      <td>$19.99</td>\n",
       "      <td>Everyone</td>\n",
       "      <td>Medical</td>\n",
       "      <td>June 5, 2017</td>\n",
       "      <td>6.0.4</td>\n",
       "      <td>4.1 and up</td>\n",
       "    </tr>\n",
       "    <tr>\n",
       "      <th>6787</th>\n",
       "      <td>Mediatek SmartDevice</td>\n",
       "      <td>TOOLS</td>\n",
       "      <td>3.6</td>\n",
       "      <td>11187</td>\n",
       "      <td>7.3M</td>\n",
       "      <td>1,000,000+</td>\n",
       "      <td>Free</td>\n",
       "      <td>0</td>\n",
       "      <td>Everyone</td>\n",
       "      <td>Tools</td>\n",
       "      <td>March 17, 2017</td>\n",
       "      <td>V1.7.6</td>\n",
       "      <td>4.0 and up</td>\n",
       "    </tr>\n",
       "    <tr>\n",
       "      <th>7947</th>\n",
       "      <td>Resume PDF Maker / CV Builder</td>\n",
       "      <td>BUSINESS</td>\n",
       "      <td>4.4</td>\n",
       "      <td>2147</td>\n",
       "      <td>2.2M</td>\n",
       "      <td>500,000+</td>\n",
       "      <td>Free</td>\n",
       "      <td>0</td>\n",
       "      <td>Everyone</td>\n",
       "      <td>Business</td>\n",
       "      <td>December 14, 2017</td>\n",
       "      <td>1.8</td>\n",
       "      <td>4.4 and up</td>\n",
       "    </tr>\n",
       "  </tbody>\n",
       "</table>\n",
       "</div>"
      ],
      "text/plain": [
       "                                App  Category  Rating Reviews  Size  \\\n",
       "2297           Hospitalist Handbook   MEDICAL     4.8      12   18M   \n",
       "6787           Mediatek SmartDevice     TOOLS     3.6   11187  7.3M   \n",
       "7947  Resume PDF Maker / CV Builder  BUSINESS     4.4    2147  2.2M   \n",
       "\n",
       "        Installs  Type   Price Content Rating    Genres       Last Updated  \\\n",
       "2297      1,000+  Paid  $19.99       Everyone   Medical       June 5, 2017   \n",
       "6787  1,000,000+  Free       0       Everyone     Tools     March 17, 2017   \n",
       "7947    500,000+  Free       0       Everyone  Business  December 14, 2017   \n",
       "\n",
       "     Current Ver Android Ver  \n",
       "2297       6.0.4  4.1 and up  \n",
       "6787      V1.7.6  4.0 and up  \n",
       "7947         1.8  4.4 and up  "
      ]
     },
     "execution_count": 54,
     "metadata": {},
     "output_type": "execute_result"
    }
   ],
   "source": [
    "data.sample(3)"
   ]
  },
  {
   "cell_type": "markdown",
   "id": "eae95520",
   "metadata": {},
   "source": [
    "Droping Unnecessary columns from the Dataset."
   ]
  },
  {
   "cell_type": "code",
   "execution_count": 55,
   "id": "2e964ce0",
   "metadata": {},
   "outputs": [],
   "source": [
    "\n",
    "\n",
    "data = data.drop(columns=['App','Current Ver'])\n"
   ]
  },
  {
   "cell_type": "markdown",
   "id": "61e7a9c8",
   "metadata": {},
   "source": [
    "- These two Columns are unnecassary to be kept in the dataset as they might create the high caredinality in the dataset"
   ]
  },
  {
   "cell_type": "markdown",
   "id": "00dbfbe5",
   "metadata": {},
   "source": [
    "Checking for Rating greater than 5.0"
   ]
  },
  {
   "cell_type": "code",
   "execution_count": 56,
   "id": "4e964051",
   "metadata": {},
   "outputs": [
    {
     "data": {
      "text/html": [
       "<div>\n",
       "<style scoped>\n",
       "    .dataframe tbody tr th:only-of-type {\n",
       "        vertical-align: middle;\n",
       "    }\n",
       "\n",
       "    .dataframe tbody tr th {\n",
       "        vertical-align: top;\n",
       "    }\n",
       "\n",
       "    .dataframe thead th {\n",
       "        text-align: right;\n",
       "    }\n",
       "</style>\n",
       "<table border=\"1\" class=\"dataframe\">\n",
       "  <thead>\n",
       "    <tr style=\"text-align: right;\">\n",
       "      <th></th>\n",
       "      <th>Category</th>\n",
       "      <th>Rating</th>\n",
       "      <th>Reviews</th>\n",
       "      <th>Size</th>\n",
       "      <th>Installs</th>\n",
       "      <th>Type</th>\n",
       "      <th>Price</th>\n",
       "      <th>Content Rating</th>\n",
       "      <th>Genres</th>\n",
       "      <th>Last Updated</th>\n",
       "      <th>Android Ver</th>\n",
       "    </tr>\n",
       "  </thead>\n",
       "  <tbody>\n",
       "    <tr>\n",
       "      <th>10472</th>\n",
       "      <td>1.9</td>\n",
       "      <td>19.0</td>\n",
       "      <td>3.0M</td>\n",
       "      <td>1,000+</td>\n",
       "      <td>Free</td>\n",
       "      <td>0</td>\n",
       "      <td>Everyone</td>\n",
       "      <td>NaN</td>\n",
       "      <td>February 11, 2018</td>\n",
       "      <td>1.0.19</td>\n",
       "      <td>NaN</td>\n",
       "    </tr>\n",
       "  </tbody>\n",
       "</table>\n",
       "</div>"
      ],
      "text/plain": [
       "      Category  Rating Reviews    Size Installs Type     Price Content Rating  \\\n",
       "10472      1.9    19.0    3.0M  1,000+     Free    0  Everyone            NaN   \n",
       "\n",
       "                  Genres Last Updated Android Ver  \n",
       "10472  February 11, 2018       1.0.19         NaN  "
      ]
     },
     "execution_count": 56,
     "metadata": {},
     "output_type": "execute_result"
    }
   ],
   "source": [
    "\n",
    "\n",
    "data[data['Rating'] > 5.0]\n"
   ]
  },
  {
   "cell_type": "code",
   "execution_count": 57,
   "id": "e68a0c1b",
   "metadata": {},
   "outputs": [],
   "source": [
    "\n",
    "data.drop(10472, inplace = True)\n",
    "\n"
   ]
  },
  {
   "cell_type": "code",
   "execution_count": 58,
   "id": "3165cab4",
   "metadata": {},
   "outputs": [
    {
     "data": {
      "text/html": [
       "<div>\n",
       "<style scoped>\n",
       "    .dataframe tbody tr th:only-of-type {\n",
       "        vertical-align: middle;\n",
       "    }\n",
       "\n",
       "    .dataframe tbody tr th {\n",
       "        vertical-align: top;\n",
       "    }\n",
       "\n",
       "    .dataframe thead th {\n",
       "        text-align: right;\n",
       "    }\n",
       "</style>\n",
       "<table border=\"1\" class=\"dataframe\">\n",
       "  <thead>\n",
       "    <tr style=\"text-align: right;\">\n",
       "      <th></th>\n",
       "      <th>Rating</th>\n",
       "    </tr>\n",
       "  </thead>\n",
       "  <tbody>\n",
       "    <tr>\n",
       "      <th>count</th>\n",
       "      <td>9366.000000</td>\n",
       "    </tr>\n",
       "    <tr>\n",
       "      <th>mean</th>\n",
       "      <td>4.191757</td>\n",
       "    </tr>\n",
       "    <tr>\n",
       "      <th>std</th>\n",
       "      <td>0.515219</td>\n",
       "    </tr>\n",
       "    <tr>\n",
       "      <th>min</th>\n",
       "      <td>1.000000</td>\n",
       "    </tr>\n",
       "    <tr>\n",
       "      <th>25%</th>\n",
       "      <td>4.000000</td>\n",
       "    </tr>\n",
       "    <tr>\n",
       "      <th>50%</th>\n",
       "      <td>4.300000</td>\n",
       "    </tr>\n",
       "    <tr>\n",
       "      <th>75%</th>\n",
       "      <td>4.500000</td>\n",
       "    </tr>\n",
       "    <tr>\n",
       "      <th>max</th>\n",
       "      <td>5.000000</td>\n",
       "    </tr>\n",
       "  </tbody>\n",
       "</table>\n",
       "</div>"
      ],
      "text/plain": [
       "            Rating\n",
       "count  9366.000000\n",
       "mean      4.191757\n",
       "std       0.515219\n",
       "min       1.000000\n",
       "25%       4.000000\n",
       "50%       4.300000\n",
       "75%       4.500000\n",
       "max       5.000000"
      ]
     },
     "execution_count": 58,
     "metadata": {},
     "output_type": "execute_result"
    }
   ],
   "source": [
    "data.describe()"
   ]
  },
  {
   "cell_type": "markdown",
   "id": "6f29148e",
   "metadata": {},
   "source": [
    "The Ratings Columns is now Evenly Distributed and does not contain any extreme or unusual Values."
   ]
  },
  {
   "cell_type": "code",
   "execution_count": 59,
   "id": "2365e782",
   "metadata": {},
   "outputs": [],
   "source": [
    "\n",
    "data[\"Reviews\"] = data[\"Reviews\"].astype('int')\n"
   ]
  },
  {
   "cell_type": "code",
   "execution_count": 60,
   "id": "8a300143",
   "metadata": {
    "scrolled": true
   },
   "outputs": [],
   "source": [
    "data['Installs'] = data['Installs'].str.replace(\",\",\"\").str.replace(\"+\",\"\")"
   ]
  },
  {
   "cell_type": "code",
   "execution_count": 61,
   "id": "f57a6a45",
   "metadata": {},
   "outputs": [],
   "source": [
    "\n",
    "data['Installs'] = data['Installs'].astype('int')\n",
    "\n",
    "data['Reviews'] = data['Reviews'].astype('int')\n",
    "\n",
    "\n"
   ]
  },
  {
   "cell_type": "code",
   "execution_count": 62,
   "id": "dcf373d2",
   "metadata": {
    "scrolled": true
   },
   "outputs": [],
   "source": [
    "\n",
    "data['Price in Dollars'] = data['Price'].str.replace(\"$\",\"\")\n",
    "\n",
    "\n",
    "data['Price in Dollars'] = data['Price in Dollars'].astype('float')\n",
    "\n",
    "\n",
    "del data['Price']\n",
    "\n"
   ]
  },
  {
   "cell_type": "code",
   "execution_count": 63,
   "id": "0a4d0ac8",
   "metadata": {},
   "outputs": [],
   "source": [
    "\n",
    "data['Last Updated'] = pd.to_datetime(data['Last Updated'])\n"
   ]
  },
  {
   "cell_type": "code",
   "execution_count": 64,
   "id": "917d7b81",
   "metadata": {},
   "outputs": [],
   "source": [
    "import numpy as np\n",
    "\n",
    "# Replace \"Varies with device\" with NaN\n",
    "cols_to_clean = [\"Size\", \"Android Ver\"]\n",
    "data[cols_to_clean] = data[cols_to_clean].replace(\"Varies with device\", np.nan)\n",
    "\n",
    "# ----- Size -----\n",
    "data[\"Size_raw\"] = data[\"Size\"]  # keep raw copy\n",
    "\n",
    "\n",
    "# Convert KB to MB (optional)\n",
    "def size_to_mb(size):\n",
    "    if pd.isna(size) or size == \"Varies with device\":\n",
    "        return np.nan\n",
    "    size = size.strip()\n",
    "    if size.endswith(\"M\"):\n",
    "        return round(float(size.replace(\"M\", \"\")), 2)\n",
    "    if size.endswith(\"k\"):\n",
    "        return round(float(size.replace(\"k\", \"\")) / 1024, 2)\n",
    "    return np.nan\n",
    "\n",
    "\n",
    "data[\"Size(in MBs)\"] = data[\"Size\"].apply(size_to_mb)\n",
    "\n",
    "\n",
    "\n",
    "\n",
    "# ----- Android Ver -----\n",
    "data[\"Android_Ver_raw\"] = data[\"Android Ver\"]  # keep raw copy\n",
    "data[\"Android Ver\"] = (\n",
    "    data[\"Android Ver\"].astype(str)\n",
    "                       .str.extract(r\"(\\d+(\\.\\d+)*)\")[0]\n",
    ")\n",
    "data[\"Android Ver\"] = pd.to_numeric(data[\"Android Ver\"], errors=\"coerce\")"
   ]
  },
  {
   "cell_type": "markdown",
   "id": "41cdb945",
   "metadata": {},
   "source": [
    "These three columns contained a value \"Varies with device\". Keeping them would have created a lot of noise for Model Building or even for Analysis. So I replaced these values with NaN, so that I can drop them later.\n",
    "\n",
    "Also the Column size contained the values in MB's as well as in Kb. I have converted all of them values to Kb's and converted the column to float type\n"
   ]
  },
  {
   "cell_type": "code",
   "execution_count": 65,
   "id": "c912c362",
   "metadata": {
    "scrolled": true
   },
   "outputs": [
    {
     "data": {
      "text/html": [
       "<div>\n",
       "<style scoped>\n",
       "    .dataframe tbody tr th:only-of-type {\n",
       "        vertical-align: middle;\n",
       "    }\n",
       "\n",
       "    .dataframe tbody tr th {\n",
       "        vertical-align: top;\n",
       "    }\n",
       "\n",
       "    .dataframe thead th {\n",
       "        text-align: right;\n",
       "    }\n",
       "</style>\n",
       "<table border=\"1\" class=\"dataframe\">\n",
       "  <thead>\n",
       "    <tr style=\"text-align: right;\">\n",
       "      <th></th>\n",
       "      <th>Category</th>\n",
       "      <th>Rating</th>\n",
       "      <th>Reviews</th>\n",
       "      <th>Size</th>\n",
       "      <th>Installs</th>\n",
       "      <th>Type</th>\n",
       "      <th>Content Rating</th>\n",
       "      <th>Genres</th>\n",
       "      <th>Last Updated</th>\n",
       "      <th>Android Ver</th>\n",
       "      <th>Price in Dollars</th>\n",
       "      <th>Size_raw</th>\n",
       "      <th>Size(in MBs)</th>\n",
       "      <th>Android_Ver_raw</th>\n",
       "    </tr>\n",
       "  </thead>\n",
       "  <tbody>\n",
       "    <tr>\n",
       "      <th>2422</th>\n",
       "      <td>MEDICAL</td>\n",
       "      <td>NaN</td>\n",
       "      <td>0</td>\n",
       "      <td>3.1M</td>\n",
       "      <td>1</td>\n",
       "      <td>Paid</td>\n",
       "      <td>Everyone</td>\n",
       "      <td>Medical</td>\n",
       "      <td>2018-08-01</td>\n",
       "      <td>4.1</td>\n",
       "      <td>2.99</td>\n",
       "      <td>3.1M</td>\n",
       "      <td>3.1</td>\n",
       "      <td>4.1 and up</td>\n",
       "    </tr>\n",
       "    <tr>\n",
       "      <th>6661</th>\n",
       "      <td>SHOPPING</td>\n",
       "      <td>3.4</td>\n",
       "      <td>25515</td>\n",
       "      <td>NaN</td>\n",
       "      <td>10000000</td>\n",
       "      <td>Free</td>\n",
       "      <td>Everyone</td>\n",
       "      <td>Shopping</td>\n",
       "      <td>2018-07-16</td>\n",
       "      <td>NaN</td>\n",
       "      <td>0.00</td>\n",
       "      <td>NaN</td>\n",
       "      <td>NaN</td>\n",
       "      <td>NaN</td>\n",
       "    </tr>\n",
       "    <tr>\n",
       "      <th>2177</th>\n",
       "      <td>FAMILY</td>\n",
       "      <td>4.7</td>\n",
       "      <td>2195</td>\n",
       "      <td>37M</td>\n",
       "      <td>10000</td>\n",
       "      <td>Paid</td>\n",
       "      <td>Everyone</td>\n",
       "      <td>Board;Brain Games</td>\n",
       "      <td>2016-08-02</td>\n",
       "      <td>2.3</td>\n",
       "      <td>2.99</td>\n",
       "      <td>37M</td>\n",
       "      <td>37.0</td>\n",
       "      <td>2.3 and up</td>\n",
       "    </tr>\n",
       "  </tbody>\n",
       "</table>\n",
       "</div>"
      ],
      "text/plain": [
       "      Category  Rating  Reviews  Size  Installs  Type Content Rating  \\\n",
       "2422   MEDICAL     NaN        0  3.1M         1  Paid       Everyone   \n",
       "6661  SHOPPING     3.4    25515   NaN  10000000  Free       Everyone   \n",
       "2177    FAMILY     4.7     2195   37M     10000  Paid       Everyone   \n",
       "\n",
       "                 Genres Last Updated  Android Ver  Price in Dollars Size_raw  \\\n",
       "2422            Medical   2018-08-01          4.1              2.99     3.1M   \n",
       "6661           Shopping   2018-07-16          NaN              0.00      NaN   \n",
       "2177  Board;Brain Games   2016-08-02          2.3              2.99      37M   \n",
       "\n",
       "      Size(in MBs) Android_Ver_raw  \n",
       "2422           3.1      4.1 and up  \n",
       "6661           NaN             NaN  \n",
       "2177          37.0      2.3 and up  "
      ]
     },
     "execution_count": 65,
     "metadata": {},
     "output_type": "execute_result"
    }
   ],
   "source": [
    "data.sample(3)"
   ]
  },
  {
   "cell_type": "code",
   "execution_count": 66,
   "id": "692cf14d",
   "metadata": {
    "scrolled": false
   },
   "outputs": [
    {
     "data": {
      "text/plain": [
       "Category                    object\n",
       "Rating                     float64\n",
       "Reviews                      int64\n",
       "Size                        object\n",
       "Installs                     int64\n",
       "Type                        object\n",
       "Content Rating              object\n",
       "Genres                      object\n",
       "Last Updated        datetime64[ns]\n",
       "Android Ver                float64\n",
       "Price in Dollars           float64\n",
       "Size_raw                    object\n",
       "Size(in MBs)               float64\n",
       "Android_Ver_raw             object\n",
       "dtype: object"
      ]
     },
     "execution_count": 66,
     "metadata": {},
     "output_type": "execute_result"
    }
   ],
   "source": [
    "data.dtypes"
   ]
  },
  {
   "cell_type": "markdown",
   "id": "60ff7f82",
   "metadata": {},
   "source": [
    "Initital Insights\n",
    "\n",
    "App and Current Ver needs to be dropped as they contained a lot of unique values. Almost like the Name and ID column in different datasets. ✔️\n",
    "\n",
    "Reviews Column's data needs to be changed from Object type to int. ✔️\n",
    "\n",
    "Installs column as well. Datatype change to Numerical by removing the alphabet characters from the entries. ✔️\n",
    "\n",
    "Price datatype needs to be changed from object to int. ✔️\n",
    "\n",
    "Last Updated* column's datatype needs to be changed from object to date time.  ✔️\n",
    "\n",
    "\n",
    "***These three columns contain varies with version cagtegory that has large number of values :***\n",
    "\n",
    "- Size column contains object values. It can be converted to Numerical, we just have to remove the alphabets from the columns.  ✔️\n",
    "\n",
    "- Android Ver column may have a lot of categories and can be reduced.  ✔️\n",
    "\n",
    "\n",
    "- Ratings is our Output column and contains Null Values... -> ( Drop Missing Values ) ⚠️"
   ]
  },
  {
   "cell_type": "code",
   "execution_count": 67,
   "id": "b9a3e39a",
   "metadata": {},
   "outputs": [],
   "source": [
    "\n",
    "data.drop(columns=['Size_raw', 'Size', 'Android_Ver_raw'], inplace=True)\n"
   ]
  },
  {
   "cell_type": "markdown",
   "id": "63a975a3",
   "metadata": {},
   "source": [
    "Deleted the Raw columns that we kept for the backup of the column, if something goes wrong..."
   ]
  },
  {
   "cell_type": "markdown",
   "id": "6fc9fd87",
   "metadata": {},
   "source": [
    " "
   ]
  },
  {
   "cell_type": "code",
   "execution_count": 68,
   "id": "9d4e9611",
   "metadata": {},
   "outputs": [
    {
     "data": {
      "text/plain": [
       "(10840, 11)"
      ]
     },
     "execution_count": 68,
     "metadata": {},
     "output_type": "execute_result"
    }
   ],
   "source": [
    "data.shape"
   ]
  },
  {
   "cell_type": "code",
   "execution_count": 69,
   "id": "1eb6f601",
   "metadata": {},
   "outputs": [],
   "source": [
    "\n",
    "\n",
    "max_date = data['Last Updated'].max()\n",
    "\n",
    "data['Days Since Last Update'] = (max_date - data[\"Last Updated\"]).dt.days\n",
    "\n",
    "def freshness(days):\n",
    "    if days <=90:\n",
    "        return \"Recently Updated\"\n",
    "    elif 91 <= days <= 365:\n",
    "        return \"Moderately Updated\"\n",
    "    else:\n",
    "        return \"Outdated\"\n",
    "    \n",
    "data[\"Update Freshness\"] = data['Days Since Last Update'].apply(freshness)\n",
    "\n",
    "\n",
    "data.drop(columns=['Last Updated'], inplace = True)"
   ]
  },
  {
   "cell_type": "markdown",
   "id": "11327f51",
   "metadata": {},
   "source": [
    "_We can see the max of the date column(i.e most recent updated date )of any app.  Then that will give us a little idea about when the dataset was fetched, based on that we will create another column for freshness of the update for apps or days since last update etc.... ??_\n",
    "\n",
    "\n",
    "**Created two new columns from the **Last Update** column.**\n",
    "1. **Days Since Last Update:** Total Days since the App is last updated.\n",
    "2. **Update Freshness:** Categories based on how frequently the developers give updates on the App.\n",
    "\n",
    "\n",
    "- Dropped the \"Last Update\" Column afterwards...\n"
   ]
  },
  {
   "cell_type": "code",
   "execution_count": 70,
   "id": "f151d052",
   "metadata": {},
   "outputs": [
    {
     "data": {
      "text/html": [
       "<div>\n",
       "<style scoped>\n",
       "    .dataframe tbody tr th:only-of-type {\n",
       "        vertical-align: middle;\n",
       "    }\n",
       "\n",
       "    .dataframe tbody tr th {\n",
       "        vertical-align: top;\n",
       "    }\n",
       "\n",
       "    .dataframe thead th {\n",
       "        text-align: right;\n",
       "    }\n",
       "</style>\n",
       "<table border=\"1\" class=\"dataframe\">\n",
       "  <thead>\n",
       "    <tr style=\"text-align: right;\">\n",
       "      <th></th>\n",
       "      <th>Category</th>\n",
       "      <th>Rating</th>\n",
       "      <th>Reviews</th>\n",
       "      <th>Installs</th>\n",
       "      <th>Type</th>\n",
       "      <th>Content Rating</th>\n",
       "      <th>Genres</th>\n",
       "      <th>Android Ver</th>\n",
       "      <th>Price in Dollars</th>\n",
       "      <th>Size(in MBs)</th>\n",
       "      <th>Days Since Last Update</th>\n",
       "      <th>Update Freshness</th>\n",
       "    </tr>\n",
       "  </thead>\n",
       "  <tbody>\n",
       "    <tr>\n",
       "      <th>7613</th>\n",
       "      <td>FAMILY</td>\n",
       "      <td>4.3</td>\n",
       "      <td>82499</td>\n",
       "      <td>5000000</td>\n",
       "      <td>Free</td>\n",
       "      <td>Everyone</td>\n",
       "      <td>Entertainment;Music &amp; Video</td>\n",
       "      <td>4.4</td>\n",
       "      <td>0.0</td>\n",
       "      <td>NaN</td>\n",
       "      <td>34</td>\n",
       "      <td>Recently Updated</td>\n",
       "    </tr>\n",
       "    <tr>\n",
       "      <th>4472</th>\n",
       "      <td>PERSONALIZATION</td>\n",
       "      <td>3.6</td>\n",
       "      <td>53</td>\n",
       "      <td>5000</td>\n",
       "      <td>Free</td>\n",
       "      <td>Everyone</td>\n",
       "      <td>Personalization</td>\n",
       "      <td>NaN</td>\n",
       "      <td>0.0</td>\n",
       "      <td>2.0</td>\n",
       "      <td>177</td>\n",
       "      <td>Moderately Updated</td>\n",
       "    </tr>\n",
       "    <tr>\n",
       "      <th>5377</th>\n",
       "      <td>GAME</td>\n",
       "      <td>4.5</td>\n",
       "      <td>5849</td>\n",
       "      <td>500000</td>\n",
       "      <td>Free</td>\n",
       "      <td>Everyone</td>\n",
       "      <td>Trivia</td>\n",
       "      <td>NaN</td>\n",
       "      <td>0.0</td>\n",
       "      <td>5.1</td>\n",
       "      <td>329</td>\n",
       "      <td>Moderately Updated</td>\n",
       "    </tr>\n",
       "    <tr>\n",
       "      <th>7574</th>\n",
       "      <td>TOOLS</td>\n",
       "      <td>3.6</td>\n",
       "      <td>949</td>\n",
       "      <td>100000</td>\n",
       "      <td>Free</td>\n",
       "      <td>Everyone</td>\n",
       "      <td>Tools</td>\n",
       "      <td>1.6</td>\n",
       "      <td>0.0</td>\n",
       "      <td>0.4</td>\n",
       "      <td>117</td>\n",
       "      <td>Moderately Updated</td>\n",
       "    </tr>\n",
       "    <tr>\n",
       "      <th>8622</th>\n",
       "      <td>PRODUCTIVITY</td>\n",
       "      <td>4.3</td>\n",
       "      <td>596</td>\n",
       "      <td>50000</td>\n",
       "      <td>Free</td>\n",
       "      <td>Everyone</td>\n",
       "      <td>Productivity</td>\n",
       "      <td>4.1</td>\n",
       "      <td>0.0</td>\n",
       "      <td>22.0</td>\n",
       "      <td>35</td>\n",
       "      <td>Recently Updated</td>\n",
       "    </tr>\n",
       "    <tr>\n",
       "      <th>8410</th>\n",
       "      <td>FAMILY</td>\n",
       "      <td>4.3</td>\n",
       "      <td>1130</td>\n",
       "      <td>50000</td>\n",
       "      <td>Free</td>\n",
       "      <td>Teen</td>\n",
       "      <td>Simulation</td>\n",
       "      <td>4.2</td>\n",
       "      <td>0.0</td>\n",
       "      <td>48.0</td>\n",
       "      <td>1223</td>\n",
       "      <td>Outdated</td>\n",
       "    </tr>\n",
       "  </tbody>\n",
       "</table>\n",
       "</div>"
      ],
      "text/plain": [
       "             Category  Rating  Reviews  Installs  Type Content Rating  \\\n",
       "7613           FAMILY     4.3    82499   5000000  Free       Everyone   \n",
       "4472  PERSONALIZATION     3.6       53      5000  Free       Everyone   \n",
       "5377             GAME     4.5     5849    500000  Free       Everyone   \n",
       "7574            TOOLS     3.6      949    100000  Free       Everyone   \n",
       "8622     PRODUCTIVITY     4.3      596     50000  Free       Everyone   \n",
       "8410           FAMILY     4.3     1130     50000  Free           Teen   \n",
       "\n",
       "                           Genres  Android Ver  Price in Dollars  \\\n",
       "7613  Entertainment;Music & Video          4.4               0.0   \n",
       "4472              Personalization          NaN               0.0   \n",
       "5377                       Trivia          NaN               0.0   \n",
       "7574                        Tools          1.6               0.0   \n",
       "8622                 Productivity          4.1               0.0   \n",
       "8410                   Simulation          4.2               0.0   \n",
       "\n",
       "      Size(in MBs)  Days Since Last Update    Update Freshness  \n",
       "7613           NaN                      34    Recently Updated  \n",
       "4472           2.0                     177  Moderately Updated  \n",
       "5377           5.1                     329  Moderately Updated  \n",
       "7574           0.4                     117  Moderately Updated  \n",
       "8622          22.0                      35    Recently Updated  \n",
       "8410          48.0                    1223            Outdated  "
      ]
     },
     "execution_count": 70,
     "metadata": {},
     "output_type": "execute_result"
    }
   ],
   "source": [
    "data.sample(6)"
   ]
  },
  {
   "cell_type": "code",
   "execution_count": null,
   "id": "cda62ecf",
   "metadata": {},
   "outputs": [],
   "source": []
  },
  {
   "cell_type": "markdown",
   "id": "c4896a09",
   "metadata": {},
   "source": [
    "- Dealing with Null Values..."
   ]
  },
  {
   "cell_type": "code",
   "execution_count": 71,
   "id": "3c131bbc",
   "metadata": {},
   "outputs": [
    {
     "data": {
      "text/plain": [
       "Category                     0\n",
       "Rating                    1474\n",
       "Reviews                      0\n",
       "Installs                     0\n",
       "Type                         1\n",
       "Content Rating               0\n",
       "Genres                       0\n",
       "Android Ver               3155\n",
       "Price in Dollars             0\n",
       "Size(in MBs)              1695\n",
       "Days Since Last Update       0\n",
       "Update Freshness             0\n",
       "dtype: int64"
      ]
     },
     "execution_count": 71,
     "metadata": {},
     "output_type": "execute_result"
    }
   ],
   "source": [
    "data.isnull().sum()"
   ]
  },
  {
   "cell_type": "markdown",
   "id": "7f831e39",
   "metadata": {},
   "source": [
    "Null Values in ***Android Ver*** and ***Size(in MBs)*** needs to be dropped completed as these are the rows that had the value: \"Varies with Device\". If kept (_by imputing_), they would create a lot of noise and improper values that will induce the bias in the data.\n",
    "\n",
    "**Missing values in the Ratings will be dealt separately based on Analysis Part and Model Building part:**\n",
    "\n",
    "- For Model Buliding : The Missing Values will be dropped completed.\n",
    "- For Analyis : We will impute the missing values with constand \"Unrated\".  "
   ]
  },
  {
   "cell_type": "code",
   "execution_count": 72,
   "id": "d0d4698e",
   "metadata": {},
   "outputs": [],
   "source": [
    "\n",
    "\n",
    "data.dropna(subset=['Android Ver','Size(in MBs)'], inplace = True)\n"
   ]
  },
  {
   "cell_type": "code",
   "execution_count": 73,
   "id": "cf4b9f84",
   "metadata": {},
   "outputs": [
    {
     "data": {
      "text/plain": [
       "Category                     0\n",
       "Rating                    1116\n",
       "Reviews                      0\n",
       "Installs                     0\n",
       "Type                         0\n",
       "Content Rating               0\n",
       "Genres                       0\n",
       "Android Ver                  0\n",
       "Price in Dollars             0\n",
       "Size(in MBs)                 0\n",
       "Days Since Last Update       0\n",
       "Update Freshness             0\n",
       "dtype: int64"
      ]
     },
     "execution_count": 73,
     "metadata": {},
     "output_type": "execute_result"
    }
   ],
   "source": [
    "data.isnull().sum()"
   ]
  },
  {
   "cell_type": "markdown",
   "id": "1e25cb85",
   "metadata": {},
   "source": [
    "**Now we will create two different datasets...** \n",
    "One for Analysis and One for Model Building.\n"
   ]
  },
  {
   "cell_type": "code",
   "execution_count": 74,
   "id": "0ec129fa",
   "metadata": {},
   "outputs": [],
   "source": [
    "\n",
    "\n",
    "EDA_data = data.copy()\n"
   ]
  },
  {
   "cell_type": "code",
   "execution_count": 75,
   "id": "cc4b74b5",
   "metadata": {},
   "outputs": [],
   "source": [
    "\n",
    "\n",
    "EDA_data.fillna(\"Unrated\", inplace = True)\n"
   ]
  },
  {
   "cell_type": "markdown",
   "id": "9f022653",
   "metadata": {},
   "source": [
    "Filled Missing values with \"Unrated\" for Data Analysis."
   ]
  },
  {
   "cell_type": "code",
   "execution_count": 76,
   "id": "b03a6bdf",
   "metadata": {},
   "outputs": [],
   "source": [
    "\n",
    "\n",
    "data.dropna(inplace = True)\n"
   ]
  },
  {
   "cell_type": "markdown",
   "id": "b57410d7",
   "metadata": {},
   "source": [
    "Dropped the Missing Values for Model Building."
   ]
  },
  {
   "cell_type": "code",
   "execution_count": 77,
   "id": "3df38b74",
   "metadata": {},
   "outputs": [
    {
     "data": {
      "text/plain": [
       "Category                  0\n",
       "Rating                    0\n",
       "Reviews                   0\n",
       "Installs                  0\n",
       "Type                      0\n",
       "Content Rating            0\n",
       "Genres                    0\n",
       "Android Ver               0\n",
       "Price in Dollars          0\n",
       "Size(in MBs)              0\n",
       "Days Since Last Update    0\n",
       "Update Freshness          0\n",
       "dtype: int64"
      ]
     },
     "execution_count": 77,
     "metadata": {},
     "output_type": "execute_result"
    }
   ],
   "source": [
    "data.isnull().sum()"
   ]
  },
  {
   "cell_type": "code",
   "execution_count": 78,
   "id": "60e0c960",
   "metadata": {},
   "outputs": [
    {
     "data": {
      "text/plain": [
       "Category                  0\n",
       "Rating                    0\n",
       "Reviews                   0\n",
       "Installs                  0\n",
       "Type                      0\n",
       "Content Rating            0\n",
       "Genres                    0\n",
       "Android Ver               0\n",
       "Price in Dollars          0\n",
       "Size(in MBs)              0\n",
       "Days Since Last Update    0\n",
       "Update Freshness          0\n",
       "dtype: int64"
      ]
     },
     "execution_count": 78,
     "metadata": {},
     "output_type": "execute_result"
    }
   ],
   "source": [
    "EDA_data.isnull().sum()"
   ]
  },
  {
   "cell_type": "markdown",
   "id": "28359e85",
   "metadata": {},
   "source": [
    "No Null Values in any of the Dataset..."
   ]
  },
  {
   "cell_type": "code",
   "execution_count": 79,
   "id": "29ab9312",
   "metadata": {},
   "outputs": [
    {
     "data": {
      "text/html": [
       "<div>\n",
       "<style scoped>\n",
       "    .dataframe tbody tr th:only-of-type {\n",
       "        vertical-align: middle;\n",
       "    }\n",
       "\n",
       "    .dataframe tbody tr th {\n",
       "        vertical-align: top;\n",
       "    }\n",
       "\n",
       "    .dataframe thead th {\n",
       "        text-align: right;\n",
       "    }\n",
       "</style>\n",
       "<table border=\"1\" class=\"dataframe\">\n",
       "  <thead>\n",
       "    <tr style=\"text-align: right;\">\n",
       "      <th></th>\n",
       "      <th>Category</th>\n",
       "      <th>Rating</th>\n",
       "      <th>Reviews</th>\n",
       "      <th>Installs</th>\n",
       "      <th>Type</th>\n",
       "      <th>Content Rating</th>\n",
       "      <th>Genres</th>\n",
       "      <th>Android Ver</th>\n",
       "      <th>Price in Dollars</th>\n",
       "      <th>Size(in MBs)</th>\n",
       "      <th>Days Since Last Update</th>\n",
       "      <th>Update Freshness</th>\n",
       "    </tr>\n",
       "  </thead>\n",
       "  <tbody>\n",
       "    <tr>\n",
       "      <th>4014</th>\n",
       "      <td>FAMILY</td>\n",
       "      <td>4.3</td>\n",
       "      <td>43</td>\n",
       "      <td>10000</td>\n",
       "      <td>Free</td>\n",
       "      <td>Everyone</td>\n",
       "      <td>Education</td>\n",
       "      <td>4.1</td>\n",
       "      <td>0.0</td>\n",
       "      <td>3.7</td>\n",
       "      <td>235</td>\n",
       "      <td>Moderately Updated</td>\n",
       "    </tr>\n",
       "    <tr>\n",
       "      <th>5194</th>\n",
       "      <td>FAMILY</td>\n",
       "      <td>4.6</td>\n",
       "      <td>27</td>\n",
       "      <td>10000</td>\n",
       "      <td>Free</td>\n",
       "      <td>Everyone</td>\n",
       "      <td>Education</td>\n",
       "      <td>4.1</td>\n",
       "      <td>0.0</td>\n",
       "      <td>4.2</td>\n",
       "      <td>25</td>\n",
       "      <td>Recently Updated</td>\n",
       "    </tr>\n",
       "    <tr>\n",
       "      <th>7659</th>\n",
       "      <td>LIFESTYLE</td>\n",
       "      <td>4.7</td>\n",
       "      <td>12</td>\n",
       "      <td>500</td>\n",
       "      <td>Free</td>\n",
       "      <td>Everyone</td>\n",
       "      <td>Lifestyle</td>\n",
       "      <td>4.0</td>\n",
       "      <td>0.0</td>\n",
       "      <td>6.0</td>\n",
       "      <td>163</td>\n",
       "      <td>Moderately Updated</td>\n",
       "    </tr>\n",
       "  </tbody>\n",
       "</table>\n",
       "</div>"
      ],
      "text/plain": [
       "       Category  Rating  Reviews  Installs  Type Content Rating     Genres  \\\n",
       "4014     FAMILY     4.3       43     10000  Free       Everyone  Education   \n",
       "5194     FAMILY     4.6       27     10000  Free       Everyone  Education   \n",
       "7659  LIFESTYLE     4.7       12       500  Free       Everyone  Lifestyle   \n",
       "\n",
       "      Android Ver  Price in Dollars  Size(in MBs)  Days Since Last Update  \\\n",
       "4014          4.1               0.0           3.7                     235   \n",
       "5194          4.1               0.0           4.2                      25   \n",
       "7659          4.0               0.0           6.0                     163   \n",
       "\n",
       "        Update Freshness  \n",
       "4014  Moderately Updated  \n",
       "5194    Recently Updated  \n",
       "7659  Moderately Updated  "
      ]
     },
     "execution_count": 79,
     "metadata": {},
     "output_type": "execute_result"
    }
   ],
   "source": [
    "data.sample(3)"
   ]
  },
  {
   "cell_type": "code",
   "execution_count": 80,
   "id": "7223402b",
   "metadata": {},
   "outputs": [
    {
     "data": {
      "text/html": [
       "<div>\n",
       "<style scoped>\n",
       "    .dataframe tbody tr th:only-of-type {\n",
       "        vertical-align: middle;\n",
       "    }\n",
       "\n",
       "    .dataframe tbody tr th {\n",
       "        vertical-align: top;\n",
       "    }\n",
       "\n",
       "    .dataframe thead th {\n",
       "        text-align: right;\n",
       "    }\n",
       "</style>\n",
       "<table border=\"1\" class=\"dataframe\">\n",
       "  <thead>\n",
       "    <tr style=\"text-align: right;\">\n",
       "      <th></th>\n",
       "      <th>Category</th>\n",
       "      <th>Rating</th>\n",
       "      <th>Reviews</th>\n",
       "      <th>Installs</th>\n",
       "      <th>Type</th>\n",
       "      <th>Content Rating</th>\n",
       "      <th>Genres</th>\n",
       "      <th>Android Ver</th>\n",
       "      <th>Price in Dollars</th>\n",
       "      <th>Size(in MBs)</th>\n",
       "      <th>Days Since Last Update</th>\n",
       "      <th>Update Freshness</th>\n",
       "    </tr>\n",
       "  </thead>\n",
       "  <tbody>\n",
       "    <tr>\n",
       "      <th>8377</th>\n",
       "      <td>TOOLS</td>\n",
       "      <td>2.8</td>\n",
       "      <td>27</td>\n",
       "      <td>1000</td>\n",
       "      <td>Free</td>\n",
       "      <td>Everyone</td>\n",
       "      <td>Tools</td>\n",
       "      <td>4.4</td>\n",
       "      <td>0.0</td>\n",
       "      <td>34.0</td>\n",
       "      <td>169</td>\n",
       "      <td>Moderately Updated</td>\n",
       "    </tr>\n",
       "    <tr>\n",
       "      <th>8752</th>\n",
       "      <td>PERSONALIZATION</td>\n",
       "      <td>Unrated</td>\n",
       "      <td>1</td>\n",
       "      <td>100</td>\n",
       "      <td>Free</td>\n",
       "      <td>Everyone</td>\n",
       "      <td>Personalization</td>\n",
       "      <td>4.0</td>\n",
       "      <td>0.0</td>\n",
       "      <td>3.9</td>\n",
       "      <td>78</td>\n",
       "      <td>Recently Updated</td>\n",
       "    </tr>\n",
       "    <tr>\n",
       "      <th>10671</th>\n",
       "      <td>GAME</td>\n",
       "      <td>4.1</td>\n",
       "      <td>88941</td>\n",
       "      <td>1000000</td>\n",
       "      <td>Free</td>\n",
       "      <td>Teen</td>\n",
       "      <td>Action</td>\n",
       "      <td>4.0</td>\n",
       "      <td>0.0</td>\n",
       "      <td>34.0</td>\n",
       "      <td>743</td>\n",
       "      <td>Outdated</td>\n",
       "    </tr>\n",
       "  </tbody>\n",
       "</table>\n",
       "</div>"
      ],
      "text/plain": [
       "              Category   Rating  Reviews  Installs  Type Content Rating  \\\n",
       "8377             TOOLS      2.8       27      1000  Free       Everyone   \n",
       "8752   PERSONALIZATION  Unrated        1       100  Free       Everyone   \n",
       "10671             GAME      4.1    88941   1000000  Free           Teen   \n",
       "\n",
       "                Genres  Android Ver  Price in Dollars  Size(in MBs)  \\\n",
       "8377             Tools          4.4               0.0          34.0   \n",
       "8752   Personalization          4.0               0.0           3.9   \n",
       "10671           Action          4.0               0.0          34.0   \n",
       "\n",
       "       Days Since Last Update    Update Freshness  \n",
       "8377                      169  Moderately Updated  \n",
       "8752                       78    Recently Updated  \n",
       "10671                     743            Outdated  "
      ]
     },
     "execution_count": 80,
     "metadata": {},
     "output_type": "execute_result"
    }
   ],
   "source": [
    "EDA_data.sample(3)"
   ]
  },
  {
   "cell_type": "markdown",
   "id": "ed85fb48",
   "metadata": {},
   "source": [
    "- Checking Final Shape of Data : "
   ]
  },
  {
   "cell_type": "code",
   "execution_count": 81,
   "id": "3584f066",
   "metadata": {},
   "outputs": [
    {
     "name": "stdout",
     "output_type": "stream",
     "text": [
      "\n",
      "Our Dataset(for model building) has now 6233 rows and 12 columns\n",
      "\n"
     ]
    }
   ],
   "source": [
    "\n",
    "\n",
    "print(f\"\\nOur Dataset(for model building) has now {data.shape[0]} rows and {data.shape[1]} columns\\n\")\n"
   ]
  },
  {
   "cell_type": "code",
   "execution_count": 82,
   "id": "4a635f36",
   "metadata": {},
   "outputs": [
    {
     "name": "stdout",
     "output_type": "stream",
     "text": [
      "\n",
      "Our Dataset(for Analysis) has now 7349 rows and 12 columns\n",
      "\n"
     ]
    }
   ],
   "source": [
    "\n",
    "\n",
    "print(f\"\\nOur Dataset(for Analysis) has now {EDA_data.shape[0]} rows and {EDA_data.shape[1]} columns\\n\")\n"
   ]
  },
  {
   "cell_type": "code",
   "execution_count": 83,
   "id": "0dcf362f",
   "metadata": {},
   "outputs": [],
   "source": [
    "\n",
    "\n",
    "data.to_csv(\"Cleaned Google Playstore Data (ML).csv\")\n"
   ]
  },
  {
   "cell_type": "code",
   "execution_count": 84,
   "id": "30d6d4eb",
   "metadata": {},
   "outputs": [],
   "source": [
    "\n",
    "\n",
    "EDA_data.to_csv(\"Cleaned Google Playstore Data (Analysis).csv\")\n"
   ]
  },
  {
   "cell_type": "markdown",
   "id": "f2261eb1",
   "metadata": {},
   "source": [
    " "
   ]
  }
 ],
 "metadata": {
  "kernelspec": {
   "display_name": "Python 3 (ipykernel)",
   "language": "python",
   "name": "python3"
  },
  "language_info": {
   "codemirror_mode": {
    "name": "ipython",
    "version": 3
   },
   "file_extension": ".py",
   "mimetype": "text/x-python",
   "name": "python",
   "nbconvert_exporter": "python",
   "pygments_lexer": "ipython3",
   "version": "3.12.4"
  }
 },
 "nbformat": 4,
 "nbformat_minor": 5
}
